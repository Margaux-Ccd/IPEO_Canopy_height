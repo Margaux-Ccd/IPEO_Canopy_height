{
 "cells": [
  {
   "cell_type": "markdown",
   "metadata": {},
   "source": [
    "# Dataloading"
   ]
  },
  {
   "cell_type": "code",
   "execution_count": null,
   "metadata": {},
   "outputs": [],
   "source": [
    "from google.colab import drive\n",
    "\n",
    "drive.mount(\"/content/drive\")"
   ]
  },
  {
   "cell_type": "code",
   "execution_count": null,
   "metadata": {},
   "outputs": [],
   "source": [
    "!pip install -q torch torchvision matplotlib tqdm gdown\n",
    "\n",
    "import gdown\n",
    "import os\n",
    "\n",
    "if not os.path.exists(\"/content/drive/My Drive/IPEO/Sentinel_2_LakeGeneva.png\"):\n",
    "    gdown.download(id=\"1xtiTdNepRB5BcPpZPvmqt64bMkqFMLND\", output=\"/content/drive/My Drive/IPEO/Sentinel_2_LakeGeneva.png\", quiet=True)"
   ]
  },
  {
   "cell_type": "code",
   "execution_count": null,
   "metadata": {},
   "outputs": [],
   "source": [
    "import os.path\n",
    "import torch.nn as nn\n",
    "\n",
    "# Define convolutions\n",
    "def conv3x3(in_channels, out_channels, stride=1, groups=1, dilation=1):\n",
    "    \"\"\"3x3 convolution with padding\"\"\"\n",
    "    return nn.Conv2d(in_channels=in_channels, out_channels=out_channels, kernel_size=3, stride=stride,\n",
    "                     padding=dilation, groups=groups, bias=True, dilation=dilation)\n",
    "\n",
    "\n",
    "def conv1x1(in_channels, out_channels, stride=1):\n",
    "    \"\"\"1x1 convolution\"\"\"\n",
    "    return nn.Conv2d(in_channels=in_channels, out_channels=out_channels, kernel_size=1, stride=stride, bias=True)\n",
    "\n",
    "\n",
    "\n",
    "## Define model class\n",
    "\n",
    "# Hypercolumn model from ex9 TO CHANGE\n",
    "class Hypercolumn(nn.Module):\n",
    "\n",
    "    def __init__(self):\n",
    "        super(Hypercolumn, self).__init__()\n",
    "\n",
    "        #TODO: define your architecture and forward pass here\n",
    "        self.block1 = nn.Sequential(\n",
    "            nn.Conv2d(4, 32, kernel_size=5, stride=4),\n",
    "            nn.MaxPool2d(kernel_size=2, stride=1),\n",
    "            nn.BatchNorm2d(num_features=32),\n",
    "            nn.ReLU(inplace=True)\n",
    "        )\n",
    "        self.block2 = nn.Sequential(\n",
    "            nn.Conv2d(32, 64, kernel_size=5, stride=4),\n",
    "            nn.MaxPool2d(kernel_size=2, stride=1),\n",
    "            nn.BatchNorm2d(num_features=64),\n",
    "            nn.ReLU(inplace=True)\n",
    "        )\n",
    "        self.block3 = nn.Sequential(\n",
    "            nn.Conv2d(64, 128, kernel_size=5, stride=2),\n",
    "            nn.MaxPool2d(kernel_size=2, stride=1),\n",
    "            nn.BatchNorm2d(num_features=128),\n",
    "            nn.ReLU(inplace=True)\n",
    "        )\n",
    "        self.block4 = nn.Sequential(\n",
    "            nn.Conv2d(128, 256, kernel_size=3, stride=1),\n",
    "            nn.MaxPool2d(kernel_size=2, stride=1),\n",
    "            nn.BatchNorm2d(num_features=256),\n",
    "            nn.ReLU(inplace=True)\n",
    "        )\n",
    "        self.final = nn.Sequential(\n",
    "            nn.Conv2d(484, 256, kernel_size=1, stride=1),           # 485 = 256 + 128 + 64 + 32 + 4 (input bands)\n",
    "            nn.BatchNorm2d(num_features=256),\n",
    "            nn.ReLU(inplace=True),\n",
    "            nn.Conv2d(256, 6, kernel_size=1, stride=1)\n",
    "        )\n",
    "    \n",
    "\n",
    "    def forward(self, x):\n",
    "        #TODO\n",
    "        upsample = nn.Upsample(size=(x.size(2), x.size(3)))\n",
    "        x1 = self.block1(x)\n",
    "        x2 = self.block2(x1)\n",
    "        x3 = self.block3(x2)\n",
    "        x4 = self.block4(x3)\n",
    "\n",
    "        hypercol = torch.cat(\n",
    "            (x, upsample(x1), upsample(x2), upsample(x3), upsample(x4)),\n",
    "            dim=1\n",
    "        )\n",
    "        return self.final(hypercol)"
   ]
  },
  {
   "cell_type": "code",
   "execution_count": null,
   "metadata": {},
   "outputs": [],
   "source": []
  }
 ],
 "metadata": {
  "kernelspec": {
   "display_name": "Python 3",
   "language": "python",
   "name": "python3"
  },
  "language_info": {
   "name": "python",
   "version": "3.11.9"
  }
 },
 "nbformat": 4,
 "nbformat_minor": 2
}
